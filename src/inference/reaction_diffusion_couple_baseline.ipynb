{
 "cells": [
  {
   "cell_type": "code",
   "execution_count": null,
   "metadata": {},
   "outputs": [],
   "source": [
    "import torch\n",
    "import os\n",
    "import sys\n",
    "import matplotlib.pyplot as plt\n",
    "import argparse\n",
    "import numpy as np\n",
    "from tqdm.auto import tqdm\n",
    "import torch.nn.functional as F\n",
    "\n",
    "sys.path.append(\"../../\")\n",
    "from src.filepath import ABSOLUTE_PATH\n",
    "from src.model.UNet1d import Unet1D\n",
    "from src.utils.utils import plot_compare_2d, relative_error\n",
    "from src.train.reaction_diffusion import cond_emb, renormalize\n",
    "from src.train.reaction_diffusion import normalize_to_neg_one_to_one as normalize"
   ]
  },
  {
   "cell_type": "code",
   "execution_count": null,
   "metadata": {},
   "outputs": [],
   "source": [
    "channel, out_dim, dim = 20, 9, 24\n",
    "model1 = Unet1D(dim=dim, cond_emb=cond_emb(), out_dim=out_dim, dim_mults=(1, 2), channels=channel - out_dim).to(\"cuda\")\n",
    "model2 = Unet1D(dim=dim, cond_emb=cond_emb(), out_dim=out_dim, dim_mults=(1, 2), channels=channel - out_dim).to(\"cuda\")\n",
    "model1.load_state_dict(torch.load(\"../../results/reaction_diffusion_couple_data/surrogateUnetu5000/model.pt\")[\"model\"])\n",
    "model2.load_state_dict(torch.load(\"../../results/reaction_diffusion_couple_data/surrogateUnetv5000/model.pt\")[\"model\"])"
   ]
  },
  {
   "cell_type": "code",
   "execution_count": 3,
   "metadata": {},
   "outputs": [],
   "source": [
    "device = \"cuda\""
   ]
  },
  {
   "cell_type": "code",
   "execution_count": null,
   "metadata": {},
   "outputs": [],
   "source": [
    "uv = np.load(ABSOLUTE_PATH + \"/data/reaction_diffusion/reaction_diffusion_uv.npy\").transpose(0, 2, 1)\n",
    "# uv = uv\n",
    "data = uv[..., :20]\n",
    "cond = uv[..., 20:]\n",
    "# u0 is cond\n",
    "cond = np.concatenate((cond, data[:, :1]), axis=1)\n",
    "data = data[:, 1:]\n",
    "\n",
    "data, cond = torch.tensor(data).to(device).float(), torch.tensor(cond).to(device).float()\n",
    "\n",
    "\n",
    "u_pred = model1(normalize(cond))\n",
    "\n",
    "\n",
    "rmse = relative_error(data, renormalize(u_pred))\n",
    "rmse, F.mse_loss(normalize(data), u_pred)"
   ]
  },
  {
   "cell_type": "code",
   "execution_count": null,
   "metadata": {},
   "outputs": [],
   "source": [
    "uv = np.load(ABSOLUTE_PATH + \"/data/reaction_diffusion/reaction_diffusion_uv.npy\").transpose(0, 2, 1)\n",
    "# uv = uv\n",
    "data = uv[..., 20:]\n",
    "cond = uv[..., :20]\n",
    "# u0 is cond\n",
    "cond = np.concatenate((cond, data[:, :1]), axis=1)\n",
    "data = data[:, 1:]\n",
    "\n",
    "data, cond = torch.tensor(data).to(device).float(), torch.tensor(cond).to(device).float()\n",
    "\n",
    "\n",
    "u_pred = model2(normalize(cond))\n",
    "\n",
    "\n",
    "rmse = relative_error(data, renormalize(u_pred))\n",
    "rmse, F.mse_loss(normalize(data), u_pred)"
   ]
  },
  {
   "cell_type": "markdown",
   "metadata": {},
   "source": [
    "compose"
   ]
  },
  {
   "cell_type": "code",
   "execution_count": null,
   "metadata": {},
   "outputs": [],
   "source": [
    "data = torch.tensor(np.load(\"../../data/reaction_diffusion/reaction_diffusion_uv.npy\")).float().to(\"cuda\")\n",
    "data = normalize(data)\n",
    "# data = (data + 5) / 10\n",
    "data = data.permute(0, 2, 1)\n",
    "# data1 = np.load('../../data/reaction_diffusion_u_from_v_u.npy')\n",
    "u, v = data[..., :20], data[..., 20:]\n",
    "u_intial, v_intial = u[:, :1], v[:, :1]\n",
    "u.shape, u_intial.shape"
   ]
  },
  {
   "cell_type": "code",
   "execution_count": null,
   "metadata": {},
   "outputs": [],
   "source": [
    "with torch.no_grad():\n",
    "    i = 0\n",
    "    eps = 1\n",
    "    v_iter = torch.ones_like(v[:, 1:])\n",
    "    u_iter = torch.ones_like(u[:, 1:])\n",
    "    while i < 100 and eps > 2e-5:\n",
    "        i = i + 1\n",
    "        condv = torch.concat((v_intial, v_iter, u_intial), dim=1)\n",
    "        u_iter_new = model1(condv)\n",
    "        condu = torch.concat((u_intial, u_iter, v_intial), dim=1)\n",
    "        v_iter_new = model2(condu)\n",
    "        eps = F.l1_loss(u_iter, u_iter_new) + F.l1_loss(v_iter, v_iter_new)\n",
    "        u_iter = u_iter_new\n",
    "        v_iter = v_iter_new\n",
    "        print(\"iteration: \", i, \" eps: \", eps)\n",
    "\n",
    "F.mse_loss(u_iter, u[:, 1:]), F.mse_loss(v_iter, v[:, 1:])"
   ]
  },
  {
   "cell_type": "code",
   "execution_count": null,
   "metadata": {},
   "outputs": [],
   "source": [
    "mult_p_true = renormalize(torch.concat((u[:, 1:].unsqueeze(1), v[:, 1:].unsqueeze(1)), dim=1))\n",
    "mult_p_pred = renormalize(torch.concat((u_iter.unsqueeze(1), v_iter.unsqueeze(1)), dim=1))\n",
    "relative_error(mult_p_pred[:, 0], mult_p_true[:, 0]), relative_error(mult_p_pred[:, 1], mult_p_true[:, 1])"
   ]
  },
  {
   "cell_type": "code",
   "execution_count": null,
   "metadata": {},
   "outputs": [],
   "source": [
    "random_n = np.random.randint(0, data.shape[0])\n",
    "random_n = -1\n",
    "\n",
    "\n",
    "plot_compare_2d(\n",
    "    true_d=mult_p_true[random_n, 0],\n",
    "    pred_d=mult_p_pred[random_n, 0],\n",
    "    savep=ABSOLUTE_PATH + \"/results/reaction_diffusion/surrogate.pdf\",\n",
    ")"
   ]
  }
 ],
 "metadata": {
  "kernelspec": {
   "display_name": "mpd",
   "language": "python",
   "name": "python3"
  },
  "language_info": {
   "codemirror_mode": {
    "name": "ipython",
    "version": 3
   },
   "file_extension": ".py",
   "mimetype": "text/x-python",
   "name": "python",
   "nbconvert_exporter": "python",
   "pygments_lexer": "ipython3",
   "version": "3.12.4"
  }
 },
 "nbformat": 4,
 "nbformat_minor": 2
}
