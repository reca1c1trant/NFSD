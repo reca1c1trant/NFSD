{
 "cells": [
  {
   "cell_type": "code",
   "execution_count": 40,
   "metadata": {},
   "outputs": [],
   "source": [
    "import argparse\n",
    "from matplotlib import pyplot as plt\n",
    "import numpy as np\n",
    "import torch\n",
    "import sys, os\n",
    "\n",
    "from torch_geometric.data import Data as Data_g\n",
    "from torch_geometric.data import DataLoader as DataLoader_G\n",
    "from torch.utils.data import DataLoader, TensorDataset\n",
    "\n",
    "\n",
    "# import path\n",
    "sys.path.append(\"../\")\n",
    "from filepath import ABSOLUTE_PATH\n",
    "\n",
    "sys.path.append(ABSOLUTE_PATH)\n",
    "from src.train.heatpipe_meshgraph import load_data\n",
    "from src.train.heatpipe import renormalize\n",
    "from src.train.train import Trainer\n",
    "from src.model.meshgraphnet import EncoderProcesserDecoder as MeshGraphNet\n",
    "from src.utils.utils import (\n",
    "    create_res,\n",
    "    set_seed,\n",
    "    get_time,\n",
    "    save_config_from_args,\n",
    "    get_parameter_net,\n",
    "    find_max_min,\n",
    "    relative_error,\n",
    ")\n",
    "import time"
   ]
  },
  {
   "cell_type": "markdown",
   "metadata": {},
   "source": []
  },
  {
   "cell_type": "code",
   "execution_count": 42,
   "metadata": {},
   "outputs": [
    {
     "name": "stderr",
     "output_type": "stream",
     "text": [
      "C:\\Users\\taozhan\\AppData\\Local\\Temp\\ipykernel_18924\\4057717591.py:15: FutureWarning: You are using `torch.load` with `weights_only=False` (the current default value), which uses the default pickle module implicitly. It is possible to construct malicious pickle data which will execute arbitrary code during unpickling (See https://github.com/pytorch/pytorch/blob/main/SECURITY.md#untrusted-models for more details). In a future release, the default value for `weights_only` will be flipped to `True`. This limits the functions that could be executed during unpickling. Arbitrary objects will no longer be allowed to be loaded via this mode unless they are explicitly allowlisted by the user via `torch.serialization.add_safe_globals`. We recommend you start setting `weights_only=True` for any use case where you don't have full control of the loaded file. Please open an issue on GitHub for any issues related to this experimental feature.\n",
      "  model.load_state_dict(torch.load(\"../../results/heatpipe/surrogate/meshgraph_6_256/model-50.pt\")[\"model\"])\n"
     ]
    },
    {
     "data": {
      "text/plain": [
       "<All keys matched successfully>"
      ]
     },
     "execution_count": 42,
     "metadata": {},
     "output_type": "execute_result"
    }
   ],
   "source": [
    "device = \"cuda\"\n",
    "num_layers, hidden_channels = 4, 2412\n",
    "message_passing_num = 6\n",
    "node_input_size = 4\n",
    "edge_input_size = 1\n",
    "hidden_size = 256\n",
    "output_size = 2412\n",
    "model = MeshGraphNet(\n",
    "    message_passing_num,\n",
    "    node_input_size,\n",
    "    edge_input_size,\n",
    "    hidden_size=hidden_size,\n",
    "    output_size=output_size,\n",
    ").to(device)\n",
    "model.load_state_dict(torch.load(\"../../results/heatpipe/surrogate/meshgraph_6_256/model-50.pt\")[\"model\"])"
   ]
  },
  {
   "cell_type": "code",
   "execution_count": 43,
   "metadata": {},
   "outputs": [],
   "source": [
    "_, test_loader = load_data(ABSOLUTE_PATH, 200, 800, device)"
   ]
  },
  {
   "cell_type": "code",
   "execution_count": 44,
   "metadata": {},
   "outputs": [],
   "source": [
    "for batch in test_loader:\n",
    "    y_p = renormalize(model(batch).reshape(-1, 804, 3))\n",
    "y_t = renormalize(batch.y.reshape(-1, 804, 3))  # .reshape(-1, 804, 3)"
   ]
  },
  {
   "cell_type": "code",
   "execution_count": 45,
   "metadata": {},
   "outputs": [
    {
     "data": {
      "text/plain": [
       "(0.0005833123197507619, 0.004266419302878069)"
      ]
     },
     "execution_count": 45,
     "metadata": {},
     "output_type": "execute_result"
    }
   ],
   "source": [
    "relative_error(y_t[..., 0], y_p[..., 0]), relative_error(y_t[..., 1:], y_p[..., 1:])"
   ]
  },
  {
   "cell_type": "code",
   "execution_count": null,
   "metadata": {},
   "outputs": [
    {
     "data": {
      "text/plain": [
       "(torch.Size([64, 4]), torch.Size([2, 168]))"
      ]
     },
     "execution_count": 46,
     "metadata": {},
     "output_type": "execute_result"
    }
   ],
   "source": [
    "from torch_geometric.data import Data\n",
    "\n",
    "x_val = torch.tensor(np.load(\"../../data/heatpipe/x_val_element_as_one_node.npy\")).to(device).float()\n",
    "\n",
    "\n",
    "\n",
    "y_val_t = torch.tensor(np.load(\"../../data/heatpipe/y_val_element_as_one_node.npy\")).to(device)\n",
    "\n",
    "\n",
    "\n",
    "batch_batch = torch.zeros(size=(64,), device=device)\n",
    "adj = torch.tensor(np.load(\"../../data/heatpipe/adj_val_element_as_one_node.npy\").transpose(1, 0)).long().to(device)\n",
    "n_edge = adj.shape[-1]\n",
    "edge_attr = torch.zeros((n_edge, 1), device=device)\n",
    "data = Data(x=x_val, y=y_val_t, edge_index=adj, edge_attr=edge_attr)\n",
    "x_val.shape, adj.shape"
   ]
  },
  {
   "cell_type": "code",
   "execution_count": 47,
   "metadata": {},
   "outputs": [
    {
     "data": {
      "text/plain": [
       "torch.Size([64, 804, 3])"
      ]
     },
     "execution_count": 47,
     "metadata": {},
     "output_type": "execute_result"
    }
   ],
   "source": [
    "y_val_p = renormalize(model(data).reshape(-1, 804, 3)).reshape(-1, 804, 3)\n",
    "y_val_p.shape"
   ]
  },
  {
   "cell_type": "code",
   "execution_count": 48,
   "metadata": {},
   "outputs": [
    {
     "data": {
      "text/plain": [
       "(0.012795742191389682, 0.023953305791562077)"
      ]
     },
     "execution_count": 48,
     "metadata": {},
     "output_type": "execute_result"
    }
   ],
   "source": [
    "relative_error(y_val_t[..., 0], y_val_p[..., 0]), relative_error(y_val_t[..., 1:], y_val_p[..., 1:])"
   ]
  },
  {
   "cell_type": "code",
   "execution_count": 21,
   "metadata": {},
   "outputs": [
    {
     "data": {
      "text/plain": [
       "array([[1.00000000e+00, 5.22917579e-03, 1.38625251e-02],\n",
       "       [2.00000000e+00, 2.59271089e-03, 8.33722297e-03],\n",
       "       [3.00000000e+00, 1.42485782e-03, 6.18609274e-03],\n",
       "       [4.00000000e+00, 6.56058139e-04, 6.04053307e-03],\n",
       "       [5.00000000e+00, 3.36065757e-04, 6.28599059e-03],\n",
       "       [6.00000000e+00, 2.79266431e-04, 6.48554647e-03],\n",
       "       [7.00000000e+00, 2.58250395e-04, 6.57488825e-03],\n",
       "       [8.00000000e+00, 2.34310282e-04, 6.59090560e-03],\n",
       "       [9.00000000e+00, 1.75298497e-04, 6.57350942e-03],\n",
       "       [1.00000000e+01, 5.55696643e-05, 6.54480560e-03]])"
      ]
     },
     "execution_count": 21,
     "metadata": {},
     "output_type": "execute_result"
    }
   ],
   "source": [
    "test_loss = np.load(\"../../results/heatpipe/surrogate/GIN_4_1206/record.npy\")\n",
    "test_loss"
   ]
  }
 ],
 "metadata": {
  "kernelspec": {
   "display_name": "mpd",
   "language": "python",
   "name": "python3"
  },
  "language_info": {
   "codemirror_mode": {
    "name": "ipython",
    "version": 3
   },
   "file_extension": ".py",
   "mimetype": "text/x-python",
   "name": "python",
   "nbconvert_exporter": "python",
   "pygments_lexer": "ipython3",
   "version": "3.12.4"
  }
 },
 "nbformat": 4,
 "nbformat_minor": 2
}
