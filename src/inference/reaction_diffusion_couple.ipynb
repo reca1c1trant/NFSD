{
 "cells": [
  {
   "cell_type": "code",
   "execution_count": 8,
   "metadata": {},
   "outputs": [],
   "source": [
    "import torch\n",
    "import os\n",
    "import sys\n",
    "import matplotlib.pyplot as plt\n",
    "import argparse\n",
    "import numpy as np\n",
    "from tqdm.auto import tqdm\n",
    "import torch.nn.functional as F\n",
    "\n",
    "sys.path.append(\"../../\")\n",
    "from src.filepath import ABSOLUTE_PATH\n",
    "from src.model.diffusion import GaussianDiffusion\n",
    "from src.model.UNet2d import Unet2D\n",
    "from src.inference.compose import compose_diffusion\n",
    "from src.utils.utils import plot_compare_2d, relative_error, find_max_min, to_np\n",
    "from src.train.reaction_diffusion_couple import cond_emb, renormalize\n",
    "from src.train.reaction_diffusion_couple import normalize_to_neg_one_to_one as normalize"
   ]
  },
  {
   "cell_type": "markdown",
   "metadata": {},
   "source": [
    "## load model"
   ]
  },
  {
   "cell_type": "code",
   "execution_count": null,
   "metadata": {},
   "outputs": [],
   "source": [
    "dim = 24\n",
    "out_dim = 2\n",
    "channel = 4\n",
    "nx = 20\n",
    "diffusion_step = 250\n",
    "device = \"cuda\"\n",
    "model = Unet2D(\n",
    "    dim=dim,\n",
    "    cond_emb=cond_emb(),\n",
    "    out_dim=out_dim,\n",
    "    dim_mults=(1, 2),\n",
    "    channels=channel,\n",
    ")\n",
    "diffusion = GaussianDiffusion(model, seq_length=(out_dim, 10, nx), timesteps=diffusion_step, auto_normalize=False).to(\n",
    "    device\n",
    ")\n",
    "diffusion.load_state_dict(\n",
    "    torch.load(\"../../results/reaction_diffusion_couple_model/diffusionUnet10000/model.pt\")[\"model\"]\n",
    ")"
   ]
  },
  {
   "cell_type": "code",
   "execution_count": null,
   "metadata": {},
   "outputs": [],
   "source": [
    "uv = torch.tensor(np.load(ABSOLUTE_PATH + \"/data/reaction_diffusion/reaction_diffusion_uv.npy\").transpose(0, 2, 1))\n",
    "# uv = uv\n",
    "u = uv[..., :20].unsqueeze(1)[9000:].clone()\n",
    "v = uv[..., 20:].unsqueeze(1)[9000:].clone()\n",
    "data = torch.concat((u, v), dim=1)\n",
    "cond = torch.concat((u[:, 0:1].clone(), v[:, 0:1].clone()), axis=1).expand(-1, -1, data.shape[2], -1)\n",
    "# u0 is cond\n",
    "cond = torch.tensor(cond).float().to(device)\n",
    "\n",
    "\n",
    "uv_pred = diffusion.sample(cond.shape[0], cond=[normalize(cond)])"
   ]
  },
  {
   "cell_type": "code",
   "execution_count": 12,
   "metadata": {},
   "outputs": [],
   "source": [
    "data = to_np(data)\n",
    "uv_pred = to_np(renormalize(uv_pred))"
   ]
  },
  {
   "cell_type": "code",
   "execution_count": null,
   "metadata": {},
   "outputs": [],
   "source": [
    "relative_error((data)[:, 0], uv_pred[:, 0]), relative_error((data)[:, 1], uv_pred[:, 1])"
   ]
  },
  {
   "cell_type": "code",
   "execution_count": null,
   "metadata": {},
   "outputs": [],
   "source": [
    "random_n = np.random.randint(0, data.shape[0])\n",
    "plot_compare_2d(\n",
    "    true_d=data[random_n, 0],\n",
    "    pred_d=uv_pred[random_n, 0],\n",
    ")\n",
    "# plot_compare_2d(data, un(u_pred))"
   ]
  }
 ],
 "metadata": {
  "kernelspec": {
   "display_name": "mpd",
   "language": "python",
   "name": "python3"
  },
  "language_info": {
   "codemirror_mode": {
    "name": "ipython",
    "version": 3
   },
   "file_extension": ".py",
   "mimetype": "text/x-python",
   "name": "python",
   "nbconvert_exporter": "python",
   "pygments_lexer": "ipython3",
   "version": "3.12.4"
  }
 },
 "nbformat": 4,
 "nbformat_minor": 2
}
